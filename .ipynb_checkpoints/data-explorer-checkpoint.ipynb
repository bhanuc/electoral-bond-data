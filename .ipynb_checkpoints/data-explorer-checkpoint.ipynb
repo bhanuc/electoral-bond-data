{
 "cells": [
  {
   "cell_type": "code",
   "execution_count": 7,
   "id": "bc4b3fa4-4a56-44b1-bbc0-80aaccca45aa",
   "metadata": {},
   "outputs": [],
   "source": [
    "import pandas as pd\n",
    "import numpy as np\n",
    "import ipywidgets as widgets\n",
    "from IPython.display import display, clear_output"
   ]
  },
  {
   "cell_type": "code",
   "execution_count": null,
   "id": "8035e1ae",
   "metadata": {},
   "outputs": [],
   "source": []
  },
  {
   "cell_type": "code",
   "execution_count": 8,
   "id": "7104c3c8-f6a9-4e21-bdec-977423054ace",
   "metadata": {},
   "outputs": [],
   "source": [
    "purchaser = pd.read_csv('./data/20240314-SBI-Part1-Purchaser.csv')\n",
    "party = pd.read_csv('./data/20240314-SBI-Part2-PoliticalParty.csv')\n",
    "eb_purchase = pd.read_csv('./data/20240321-EB-purchase-data-full.csv')\n",
    "eb_redemption = pd.read_csv('./data/20240321-EB-redemption-data-full.csv')\n"
   ]
  },
  {
   "cell_type": "code",
   "execution_count": 9,
   "id": "8ac3ddc2-99af-4718-9120-74ff0ed22b4e",
   "metadata": {},
   "outputs": [],
   "source": [
    "# Clean 'Denominations' to ensure they are numeric\n",
    "eb_purchase['Denominations'] = eb_purchase['Denominations'].str.replace(',', '').astype(int)\n",
    "eb_redemption['Denominations'] = eb_redemption['Denominations'].str.replace(',', '').astype(int)\n"
   ]
  },
  {
   "cell_type": "code",
   "execution_count": 10,
   "id": "cc97ac63-cbfe-4137-b948-4640de8ed163",
   "metadata": {},
   "outputs": [],
   "source": [
    "# Assuming bond numbers are directly comparable and there are unique mappings, we merge on bond numbers.\n",
    "# If bond numbers are not directly comparable, you would need to standardize them first.\n",
    "\n",
    "# Merge on 'Bond Number' to correlate purchasers with political parties\n",
    "merged_data = pd.merge(eb_purchase[['Bond Number', 'Name of the Purchaser', 'Denominations']],\n",
    "                       eb_redemption[['Bond Number', 'Name of the Political Party', 'Denominations']],\n",
    "                       on='Bond Number', suffixes=('_purchase', '_redemption'))"
   ]
  },
  {
   "cell_type": "code",
   "execution_count": 14,
   "id": "b541ce9c-ab82-46cf-911d-55b12edd85b5",
   "metadata": {
    "scrolled": true
   },
   "outputs": [
    {
     "name": "stdout",
     "output_type": "stream",
     "text": [
      "Donation Summary, detailing each company's total donations to each political party, sorted by the largest donations first.\n"
     ]
    },
    {
     "data": {
      "application/vnd.jupyter.widget-view+json": {
       "model_id": "178af4d6fc9848ee8f17db5f237ba9ef",
       "version_major": 2,
       "version_minor": 0
      },
      "text/plain": [
       "Dropdown(description='Column:', options=(('Select a column', ''), ('Name of the Purchaser', 'Name of the Purch…"
      ]
     },
     "metadata": {},
     "output_type": "display_data"
    },
    {
     "data": {
      "application/vnd.jupyter.widget-view+json": {
       "model_id": "46806f9b07f9406592f22d06eb1c03aa",
       "version_major": 2,
       "version_minor": 0
      },
      "text/plain": [
       "Text(value='', description='Filter:', placeholder='Enter filter value')"
      ]
     },
     "metadata": {},
     "output_type": "display_data"
    },
    {
     "data": {
      "application/vnd.jupyter.widget-view+json": {
       "model_id": "3af7a4bbaab14b2798623355d67bc64c",
       "version_major": 2,
       "version_minor": 0
      },
      "text/plain": [
       "Output()"
      ]
     },
     "metadata": {},
     "output_type": "display_data"
    }
   ],
   "source": [
    "# Summarize donations by purchaser and political party\n",
    "donation_summary = merged_data.groupby(['Name of the Purchaser', 'Name of the Political Party'])['Denominations_purchase'].sum().reset_index()\n",
    "\n",
    "# Rename columns for clarity\n",
    "donation_summary.rename(columns={'Denominations_purchase': 'Total Donations'}, inplace=True)\n",
    "\n",
    "# Sort by 'Total Donations' in descending order to get largest donations first\n",
    "donation_summary_sorted = donation_summary.sort_values(by='Total Donations', ascending=False)\n",
    "\n",
    "print(\"Donation Summary, detailing each company's total donations to each political party, sorted by the largest donations first.\")\n",
    "# Display the sorted summary\n",
    "\n",
    "\n",
    "# Create a dropdown for column selection\n",
    "column_dropdown = widgets.Dropdown(\n",
    "    options = [('Select a column', '')] + [(col, col) for col in donation_summary_sorted.columns],\n",
    "    value = '',\n",
    "    description = 'Column:',\n",
    ")\n",
    "\n",
    "# Create a text input for the filter value\n",
    "filter_text = widgets.Text(\n",
    "    value = '',\n",
    "    placeholder = 'Enter filter value',\n",
    "    description = 'Filter:',\n",
    "    disabled = False\n",
    ")\n",
    "\n",
    "# Output widget to display the filtered DataFrame\n",
    "output = widgets.Output()\n",
    "\n",
    "def filter_dataframe(change):\n",
    "    with output:\n",
    "        clear_output(wait=True)  # Clear the previous output\n",
    "        if column_dropdown.value and filter_text.value:  # Check if column and filter are selected\n",
    "            # Filter the DataFrame\n",
    "            filtered_donation_summary_sorted = donation_summary_sorted[donation_summary_sorted[column_dropdown.value].astype(str).str.contains(filter_text.value, case=False, na=False)]\n",
    "            display(filtered_donation_summary_sorted)  # Display the filtered DataFrame\n",
    "        else:\n",
    "            display(donation_summary_sorted.head())  # If no filter, display the DataFrame's head\n",
    "\n",
    "# Attach the filter function to changes in the dropdown and text input\n",
    "column_dropdown.observe(filter_dataframe, names='value')\n",
    "filter_text.observe(filter_dataframe, names='value')\n",
    "\n",
    "display(column_dropdown, filter_text)\n",
    "\n",
    "# Display the output widget\n",
    "display(output)\n",
    "\n"
   ]
  },
  {
   "cell_type": "code",
   "execution_count": 16,
   "id": "21e98175-0d5e-4d0b-b2a9-48f87cf658ad",
   "metadata": {},
   "outputs": [
    {
     "name": "stdout",
     "output_type": "stream",
     "text": [
      "Donation Summary, listing each political party along with the total amount of donations received, sorted by the parties that received the most funds\n"
     ]
    },
    {
     "data": {
      "application/vnd.jupyter.widget-view+json": {
       "model_id": "e31d6bd5add44fbea99e7b1ab168b1ba",
       "version_major": 2,
       "version_minor": 0
      },
      "text/plain": [
       "Dropdown(description='Column:', options=(('Select a column', ''), ('Name of the Political Party', 'Name of the…"
      ]
     },
     "metadata": {},
     "output_type": "display_data"
    },
    {
     "data": {
      "application/vnd.jupyter.widget-view+json": {
       "model_id": "a922dace99b34fc58c19e66d9889d1bc",
       "version_major": 2,
       "version_minor": 0
      },
      "text/plain": [
       "Text(value='', description='Filter:', placeholder='Enter filter value')"
      ]
     },
     "metadata": {},
     "output_type": "display_data"
    },
    {
     "data": {
      "application/vnd.jupyter.widget-view+json": {
       "model_id": "251b63e4fe9e41fca99e1d0d63e6a81b",
       "version_major": 2,
       "version_minor": 0
      },
      "text/plain": [
       "Output()"
      ]
     },
     "metadata": {},
     "output_type": "display_data"
    }
   ],
   "source": [
    "# Aggregate donations by political party\n",
    "total_donations_by_party = merged_data.groupby('Name of the Political Party')['Denominations_redemption'].sum().reset_index()\n",
    "\n",
    "# Rename columns for clarity\n",
    "total_donations_by_party.rename(columns={'Denominations_redemption': 'Total Donations'}, inplace=True)\n",
    "\n",
    "# Sort by 'Total Donations' to see which party received the most\n",
    "total_donations_by_party_sorted = total_donations_by_party.sort_values(by='Total Donations', ascending=False)\n",
    "\n",
    "print(\"Donation Summary, listing each political party along with the total amount of donations received, sorted by the parties that received the most funds\")\n",
    "\n",
    "\n",
    "# Create a dropdown for column selection\n",
    "column_dropdown = widgets.Dropdown(\n",
    "    options = [('Select a column', '')] + [(col, col) for col in total_donations_by_party_sorted.columns],\n",
    "    value = '',\n",
    "    description = 'Column:',\n",
    ")\n",
    "\n",
    "# Create a text input for the filter value\n",
    "filter_text = widgets.Text(\n",
    "    value = '',\n",
    "    placeholder = 'Enter filter value',\n",
    "    description = 'Filter:',\n",
    "    disabled = False\n",
    ")\n",
    "\n",
    "# Output widget to display the filtered DataFrame\n",
    "output = widgets.Output()\n",
    "\n",
    "def filter_dataframe(change):\n",
    "    with output:\n",
    "        clear_output(wait=True)  # Clear the previous output\n",
    "        if column_dropdown.value and filter_text.value:  # Check if column and filter are selected\n",
    "            # Filter the DataFrame\n",
    "            filtered_total_donations_by_party_sorted = total_donations_by_party_sorted[total_donations_by_party_sorted[column_dropdown.value].astype(str).str.contains(filter_text.value, case=False, na=False)]\n",
    "            display(filtered_total_donations_by_party_sorted)  # Display the filtered DataFrame\n",
    "        else:\n",
    "            display(total_donations_by_party_sorted.head())  # If no filter, display the DataFrame's head\n",
    "\n",
    "# Attach the filter function to changes in the dropdown and text input\n",
    "column_dropdown.observe(filter_dataframe, names='value')\n",
    "filter_text.observe(filter_dataframe, names='value')\n",
    "\n",
    "display(column_dropdown, filter_text)\n",
    "\n",
    "# Display the output widget\n",
    "display(output)\n",
    "\n"
   ]
  },
  {
   "cell_type": "code",
   "execution_count": 17,
   "id": "71fdbf1c-3fe2-4cc3-9a85-9e28c3cdb212",
   "metadata": {},
   "outputs": [
    {
     "data": {
      "application/vnd.jupyter.widget-view+json": {
       "model_id": "480655e8f01c405c93bf8e7c4eed9429",
       "version_major": 2,
       "version_minor": 0
      },
      "text/plain": [
       "Dropdown(description='Column:', options=(('Select a column', ''), ('Name of the Political Party', 'Name of the…"
      ]
     },
     "metadata": {},
     "output_type": "display_data"
    },
    {
     "data": {
      "application/vnd.jupyter.widget-view+json": {
       "model_id": "e32aa8b27f994452b7c15ee70106f1f3",
       "version_major": 2,
       "version_minor": 0
      },
      "text/plain": [
       "Text(value='', description='Filter:', placeholder='Enter filter value')"
      ]
     },
     "metadata": {},
     "output_type": "display_data"
    },
    {
     "data": {
      "application/vnd.jupyter.widget-view+json": {
       "model_id": "0464407723d04592ad355c202d9fc261",
       "version_major": 2,
       "version_minor": 0
      },
      "text/plain": [
       "Output()"
      ]
     },
     "metadata": {},
     "output_type": "display_data"
    }
   ],
   "source": [
    "# Merge the date of encashment from redemption data with the political party name\n",
    "datewise_donations = pd.merge(merged_data[['Name of the Political Party', 'Bond Number']],\n",
    "                              eb_redemption[['Bond Number', 'Date of Encashment', 'Denominations']],\n",
    "                              on='Bond Number')\n",
    "\n",
    "# Ensure 'Date of Encashment' is in datetime format\n",
    "datewise_donations['Date of Encashment'] = pd.to_datetime(datewise_donations['Date of Encashment'], format='%d/%b/%Y')\n",
    "\n",
    "# Extract year and month for grouping\n",
    "datewise_donations['YearMonth'] = datewise_donations['Date of Encashment'].dt.to_period('M')\n",
    "\n",
    "# Aggregate donations by party and YearMonth\n",
    "monthly_donations_summary = datewise_donations.groupby(['Name of the Political Party', 'YearMonth'])['Denominations'].sum().reset_index()\n",
    "\n",
    "# Sort the summary by party and YearMonth to have a chronological order of donations for each party\n",
    "monthly_donations_summary_sorted = monthly_donations_summary.sort_values(by=['Name of the Political Party', 'YearMonth'])\n",
    "\n",
    "# Display the summary\n",
    "\n",
    "# Create a dropdown for column selection\n",
    "column_dropdown = widgets.Dropdown(\n",
    "    options = [('Select a column', '')] + [(col, col) for col in total_donations_by_party_sorted.columns],\n",
    "    value = '',\n",
    "    description = 'Column:',\n",
    ")\n",
    "\n",
    "# Create a text input for the filter value\n",
    "filter_text = widgets.Text(\n",
    "    value = '',\n",
    "    placeholder = 'Enter filter value',\n",
    "    description = 'Filter:',\n",
    "    disabled = False\n",
    ")\n",
    "\n",
    "# Output widget to display the filtered DataFrame\n",
    "output = widgets.Output()\n",
    "\n",
    "def filter_dataframe(change):\n",
    "    with output:\n",
    "        clear_output(wait=True)  # Clear the previous output\n",
    "        if column_dropdown.value and filter_text.value:  # Check if column and filter are selected\n",
    "            # Filter the DataFrame\n",
    "            filtered_monthly_donations_summary_sorted= monthly_donations_summary_sorted[monthly_donations_summary_sorted[column_dropdown.value].astype(str).str.contains(filter_text.value, case=False, na=False)]\n",
    "            display(filtered_monthly_donations_summary_sorted)  # Display the filtered DataFrame\n",
    "        else:\n",
    "            display(filtered_monthly_donations_summary_sorted.head())  # If no filter, display the DataFrame's head\n",
    "\n",
    "# Attach the filter function to changes in the dropdown and text input\n",
    "column_dropdown.observe(filter_dataframe, names='value')\n",
    "filter_text.observe(filter_dataframe, names='value')\n",
    "\n",
    "display(column_dropdown, filter_text)\n",
    "\n",
    "# Display the output widget\n",
    "display(output)\n",
    "\n"
   ]
  },
  {
   "cell_type": "code",
   "execution_count": null,
   "id": "9a583f59-059b-4b70-8c00-844a8797418e",
   "metadata": {},
   "outputs": [],
   "source": []
  },
  {
   "cell_type": "code",
   "execution_count": null,
   "id": "3cc7dfc8-3219-41a2-a3a4-ca82c305cbe8",
   "metadata": {},
   "outputs": [],
   "source": []
  }
 ],
 "metadata": {
  "kernelspec": {
   "display_name": "Python 3 (ipykernel)",
   "language": "python",
   "name": "python3"
  },
  "language_info": {
   "codemirror_mode": {
    "name": "ipython",
    "version": 3
   },
   "file_extension": ".py",
   "mimetype": "text/x-python",
   "name": "python",
   "nbconvert_exporter": "python",
   "pygments_lexer": "ipython3",
   "version": "3.10.13"
  }
 },
 "nbformat": 4,
 "nbformat_minor": 5
}
